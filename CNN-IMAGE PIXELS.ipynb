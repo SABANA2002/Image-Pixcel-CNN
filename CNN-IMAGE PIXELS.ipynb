{
 "cells": [
  {
   "cell_type": "code",
   "execution_count": 1,
   "id": "8a6c0479",
   "metadata": {},
   "outputs": [],
   "source": [
    "import mnist"
   ]
  },
  {
   "cell_type": "code",
   "execution_count": 2,
   "id": "eb7ebddf",
   "metadata": {},
   "outputs": [],
   "source": [
    "train_img=mnist.train_images()[0:1000]"
   ]
  },
  {
   "cell_type": "code",
   "execution_count": 3,
   "id": "d79b6947",
   "metadata": {},
   "outputs": [
    {
     "name": "stdout",
     "output_type": "stream",
     "text": [
      "[[[0 0 0 ... 0 0 0]\n",
      "  [0 0 0 ... 0 0 0]\n",
      "  [0 0 0 ... 0 0 0]\n",
      "  ...\n",
      "  [0 0 0 ... 0 0 0]\n",
      "  [0 0 0 ... 0 0 0]\n",
      "  [0 0 0 ... 0 0 0]]\n",
      "\n",
      " [[0 0 0 ... 0 0 0]\n",
      "  [0 0 0 ... 0 0 0]\n",
      "  [0 0 0 ... 0 0 0]\n",
      "  ...\n",
      "  [0 0 0 ... 0 0 0]\n",
      "  [0 0 0 ... 0 0 0]\n",
      "  [0 0 0 ... 0 0 0]]\n",
      "\n",
      " [[0 0 0 ... 0 0 0]\n",
      "  [0 0 0 ... 0 0 0]\n",
      "  [0 0 0 ... 0 0 0]\n",
      "  ...\n",
      "  [0 0 0 ... 0 0 0]\n",
      "  [0 0 0 ... 0 0 0]\n",
      "  [0 0 0 ... 0 0 0]]\n",
      "\n",
      " ...\n",
      "\n",
      " [[0 0 0 ... 0 0 0]\n",
      "  [0 0 0 ... 0 0 0]\n",
      "  [0 0 0 ... 0 0 0]\n",
      "  ...\n",
      "  [0 0 0 ... 0 0 0]\n",
      "  [0 0 0 ... 0 0 0]\n",
      "  [0 0 0 ... 0 0 0]]\n",
      "\n",
      " [[0 0 0 ... 0 0 0]\n",
      "  [0 0 0 ... 0 0 0]\n",
      "  [0 0 0 ... 0 0 0]\n",
      "  ...\n",
      "  [0 0 0 ... 0 0 0]\n",
      "  [0 0 0 ... 0 0 0]\n",
      "  [0 0 0 ... 0 0 0]]\n",
      "\n",
      " [[0 0 0 ... 0 0 0]\n",
      "  [0 0 0 ... 0 0 0]\n",
      "  [0 0 0 ... 0 0 0]\n",
      "  ...\n",
      "  [0 0 0 ... 0 0 0]\n",
      "  [0 0 0 ... 0 0 0]\n",
      "  [0 0 0 ... 0 0 0]]]\n"
     ]
    }
   ],
   "source": [
    "print(train_img)"
   ]
  },
  {
   "cell_type": "code",
   "execution_count": 4,
   "id": "e652bf9f",
   "metadata": {},
   "outputs": [],
   "source": [
    "train_lbl=mnist.train_labels()[0:1000]"
   ]
  },
  {
   "cell_type": "code",
   "execution_count": 5,
   "id": "fc365125",
   "metadata": {},
   "outputs": [],
   "source": [
    "test_img=mnist.test_images()[0:1000]"
   ]
  },
  {
   "cell_type": "code",
   "execution_count": 6,
   "id": "010336c7",
   "metadata": {},
   "outputs": [],
   "source": [
    "test_lbl=mnist.test_labels()[0:1000]"
   ]
  },
  {
   "cell_type": "code",
   "execution_count": 7,
   "id": "4d912d35",
   "metadata": {},
   "outputs": [],
   "source": [
    "import matplotlib.pyplot as plt"
   ]
  },
  {
   "cell_type": "code",
   "execution_count": 8,
   "id": "4e84b99d",
   "metadata": {},
   "outputs": [
    {
     "data": {
      "text/plain": [
       "<matplotlib.image.AxesImage at 0x1f764199d30>"
      ]
     },
     "execution_count": 8,
     "metadata": {},
     "output_type": "execute_result"
    },
    {
     "data": {
      "image/png": "[encoded data removed]",
      "text/plain": [
       "<Figure size 432x288 with 1 Axes>"
      ]
     },
     "metadata": {
      "needs_background": "light"
     },
     "output_type": "display_data"
    }
   ],
   "source": [
    "plt.imshow(train_img[40],plt.get_cmap(\"Greys\"))#,cmap=(\"Greys\")"
   ]
  },
  {
   "cell_type": "code",
   "execution_count": 9,
   "id": "d705f458",
   "metadata": {},
   "outputs": [
    {
     "data": {
      "text/plain": [
       "1"
      ]
     },
     "execution_count": 9,
     "metadata": {},
     "output_type": "execute_result"
    }
   ],
   "source": [
    "train_lbl[40]"
   ]
  },
  {
   "cell_type": "code",
   "execution_count": 10,
   "id": "6dcae92a",
   "metadata": {},
   "outputs": [
    {
     "data": {
      "text/plain": [
       "(28, 28)"
      ]
     },
     "execution_count": 10,
     "metadata": {},
     "output_type": "execute_result"
    }
   ],
   "source": [
    "train_img[40].shape"
   ]
  },
  {
   "cell_type": "code",
   "execution_count": 11,
   "id": "bbd54f8a",
   "metadata": {},
   "outputs": [],
   "source": [
    "from keras.models import Sequential\n",
    "from tensorflow.keras import layers\n",
    "from keras.layers import Conv2D,MaxPooling2D,Flatten"
   ]
  },
  {
   "cell_type": "code",
   "execution_count": 12,
   "id": "84136cfa",
   "metadata": {},
   "outputs": [],
   "source": [
    "model=Sequential()\n",
    "model.add(layers.Conv2D(32,(3,3),input_shape=(28,28,1),activation=\"relu\"))#convolution layer\n",
    "model.add(layers.MaxPooling2D(pool_size=(2,2)))#pooling layer\n",
    "model.add(layers.Conv2D(64,(2,2),activation=\"relu\"))#convolution layer\n",
    "model.add(layers.MaxPooling2D(pool_size=(2,2)))#pooling layer\n",
    "model.add(layers.Flatten())#fully connected layer\n",
    "model.add(layers.Dense(64,activation=\"relu\"))\n",
    "model.add(layers.Dense(10,activation=\"softmax\"))\n",
    "model.compile(loss=\"categorical_crossentropy\",optimizer=\"adam\",metrics=[\"accuracy\"])"
   ]
  },
  {
   "cell_type": "code",
   "execution_count": 13,
   "id": "f01c7c53",
   "metadata": {},
   "outputs": [
    {
     "data": {
      "text/plain": [
       "dtype('uint8')"
      ]
     },
     "execution_count": 13,
     "metadata": {},
     "output_type": "execute_result"
    }
   ],
   "source": [
    "train_lbl.dtype"
   ]
  },
  {
   "cell_type": "code",
   "execution_count": 14,
   "id": "a1ad590f",
   "metadata": {},
   "outputs": [],
   "source": [
    "import tensorflow as tf\n",
    "train_lbl=tf.keras.utils.to_categorical(train_lbl)\n",
    "test_lbl=tf.keras.utils.to_categorical(test_lbl)"
   ]
  },
  {
   "cell_type": "code",
   "execution_count": 15,
   "id": "030b03fd",
   "metadata": {},
   "outputs": [
    {
     "data": {
      "text/plain": [
       "dtype('float32')"
      ]
     },
     "execution_count": 15,
     "metadata": {},
     "output_type": "execute_result"
    }
   ],
   "source": [
    "train_lbl.dtype"
   ]
  },
  {
   "cell_type": "code",
   "execution_count": 16,
   "id": "80070054",
   "metadata": {},
   "outputs": [
    {
     "data": {
      "text/plain": [
       "dtype('uint8')"
      ]
     },
     "execution_count": 16,
     "metadata": {},
     "output_type": "execute_result"
    }
   ],
   "source": [
    "train_img.dtype"
   ]
  },
  {
   "cell_type": "code",
   "execution_count": 17,
   "id": "64e9bd44",
   "metadata": {},
   "outputs": [
    {
     "data": {
      "text/plain": [
       "(1000, 28, 28)"
      ]
     },
     "execution_count": 17,
     "metadata": {},
     "output_type": "execute_result"
    }
   ],
   "source": [
    "train_img.shape"
   ]
  },
  {
   "cell_type": "code",
   "execution_count": 18,
   "id": "0d263b74",
   "metadata": {},
   "outputs": [],
   "source": [
    "train_img=train_img.reshape((1000,28,28,1))"
   ]
  },
  {
   "cell_type": "code",
   "execution_count": 19,
   "id": "9be1828c",
   "metadata": {},
   "outputs": [
    {
     "data": {
      "text/plain": [
       "(1000, 28, 28, 1)"
      ]
     },
     "execution_count": 19,
     "metadata": {},
     "output_type": "execute_result"
    }
   ],
   "source": [
    "train_img.shape"
   ]
  },
  {
   "cell_type": "code",
   "execution_count": 20,
   "id": "46cbfdef",
   "metadata": {},
   "outputs": [],
   "source": [
    "train_img=train_img.astype(\"float32\")/255\n",
    "test_img=test_img.astype(\"float32\")/255"
   ]
  },
  {
   "cell_type": "code",
   "execution_count": 21,
   "id": "bd5621f4",
   "metadata": {},
   "outputs": [
    {
     "data": {
      "text/plain": [
       "(1000, 28, 28, 1)"
      ]
     },
     "execution_count": 21,
     "metadata": {},
     "output_type": "execute_result"
    }
   ],
   "source": [
    "train_img.shape"
   ]
  },
  {
   "cell_type": "code",
   "execution_count": 22,
   "id": "75e7fa98",
   "metadata": {},
   "outputs": [
    {
     "name": "stdout",
     "output_type": "stream",
     "text": [
      "Epoch 1/10\n",
      "32/32 [==============================] - 5s 28ms/step - loss: 1.8105 - accuracy: 0.4570\n",
      "Epoch 2/10\n",
      "32/32 [==============================] - 1s 25ms/step - loss: 0.6664 - accuracy: 0.7990\n",
      "Epoch 3/10\n",
      "32/32 [==============================] - 1s 24ms/step - loss: 0.4186 - accuracy: 0.8780\n",
      "Epoch 4/10\n",
      "32/32 [==============================] - 1s 24ms/step - loss: 0.3121 - accuracy: 0.9070\n",
      "Epoch 5/10\n",
      "32/32 [==============================] - 1s 25ms/step - loss: 0.2310 - accuracy: 0.9360\n",
      "Epoch 6/10\n",
      "32/32 [==============================] - 1s 24ms/step - loss: 0.1857 - accuracy: 0.9530\n",
      "Epoch 7/10\n",
      "32/32 [==============================] - 1s 25ms/step - loss: 0.1452 - accuracy: 0.9600\n",
      "Epoch 8/10\n",
      "32/32 [==============================] - 1s 25ms/step - loss: 0.1161 - accuracy: 0.9660\n",
      "Epoch 9/10\n",
      "32/32 [==============================] - 1s 25ms/step - loss: 0.0758 - accuracy: 0.9800\n",
      "Epoch 10/10\n",
      "32/32 [==============================] - 1s 25ms/step - loss: 0.0579 - accuracy: 0.9860\n"
     ]
    },
    {
     "data": {
      "text/plain": [
       "<keras.callbacks.History at 0x1f76ad3cc10>"
      ]
     },
     "execution_count": 22,
     "metadata": {},
     "output_type": "execute_result"
    }
   ],
   "source": [
    "model.fit(train_img,train_lbl,epochs=10)"
   ]
  },
  {
   "cell_type": "code",
   "execution_count": 24,
   "id": "a1238f66",
   "metadata": {},
   "outputs": [
    {
     "name": "stdout",
     "output_type": "stream",
     "text": [
      "32/32 [==============================] - 1s 9ms/step - loss: 0.2459 - accuracy: 0.9220\n"
     ]
    },
    {
     "data": {
      "text/plain": [
       "[0.24587641656398773, 0.921999990940094]"
      ]
     },
     "execution_count": 24,
     "metadata": {},
     "output_type": "execute_result"
    }
   ],
   "source": [
    "model.evaluate(test_img,test_lbl)"
   ]
  },
  {
   "cell_type": "code",
   "execution_count": null,
   "id": "58d37ab7",
   "metadata": {},
   "outputs": [],
   "source": []
  }
 ],
 "metadata": {
  "kernelspec": {
   "display_name": "Python 3 (ipykernel)",
   "language": "python",
   "name": "python3"
  },
  "language_info": {
   "codemirror_mode": {
    "name": "ipython",
    "version": 3
   },
   "file_extension": ".py",
   "mimetype": "text/x-python",
   "name": "python",
   "nbconvert_exporter": "python",
   "pygments_lexer": "ipython3",
   "version": "3.9.7"
  }
 },
 "nbformat": 4,
 "nbformat_minor": 5
}
